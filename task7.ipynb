{
 "cells": [
  {
   "attachments": {},
   "cell_type": "markdown",
   "metadata": {},
   "source": [
    "# Task 7: Stock Market Prediction using Numerical and Textual Analysis"
   ]
  },
  {
   "attachments": {},
   "cell_type": "markdown",
   "metadata": {},
   "source": [
    "## Step 1: Import required Libraries"
   ]
  },
  {
   "cell_type": "code",
   "execution_count": 66,
   "metadata": {},
   "outputs": [
    {
     "name": "stderr",
     "output_type": "stream",
     "text": [
      "[nltk_data] Downloading package vader_lexicon to C:\\Users\\ANTRA\n",
      "[nltk_data]     RAJPUROHIT\\AppData\\Roaming\\nltk_data...\n",
      "[nltk_data]   Package vader_lexicon is already up-to-date!\n"
     ]
    }
   ],
   "source": [
    "import warnings\n",
    "warnings.filterwarnings('ignore')\n",
    "\n",
    "import math\n",
    "import pandas as pd\n",
    "import numpy as np\n",
    "\n",
    "import matplotlib.pyplot as plt\n",
    "import seaborn as sns\n",
    "\n",
    "from sklearn import preprocessing, metrics\n",
    "from sklearn.preprocessing import MinMaxScaler\n",
    "from sklearn.svm import SVR\n",
    "from sklearn.ensemble import GradientBoostingRegressor, RandomForestRegressor\n",
    "\n",
    "from keras.models import Sequential\n",
    "from keras.layers import Dense, LSTM, Dropout, Dense, Activation\n",
    "\n",
    "import nltk\n",
    "nltk.download('vader_lexicon')\n",
    "from nltk.sentiment.vader import SentimentIntensityAnalyzer"
   ]
  },
  {
   "attachments": {},
   "cell_type": "markdown",
   "metadata": {},
   "source": [
    "## Step 2: Loading the Datasets"
   ]
  },
  {
   "cell_type": "code",
   "execution_count": 67,
   "metadata": {},
   "outputs": [],
   "source": [
    "df1 = pd.read_csv('C:\\\\Users\\\\ANTRA RAJPUROHIT\\\\OneDrive\\\\Documents\\\\VS Code\\\\The Grip TSF\\\\The-Sparks-Foundation-Tasks\\\\data\\\\task7_BSESN.csv')\n",
    "df2 = pd.read_csv('C:\\\\Users\\\\ANTRA RAJPUROHIT\\\\OneDrive\\\\Documents\\\\VS Code\\\\The Grip TSF\\\\The-Sparks-Foundation-Tasks\\\\data\\\\task7_india-news-headlines.csv')"
   ]
  },
  {
   "cell_type": "code",
   "execution_count": 68,
   "metadata": {},
   "outputs": [
    {
     "data": {
      "text/html": [
       "<div>\n",
       "<style scoped>\n",
       "    .dataframe tbody tr th:only-of-type {\n",
       "        vertical-align: middle;\n",
       "    }\n",
       "\n",
       "    .dataframe tbody tr th {\n",
       "        vertical-align: top;\n",
       "    }\n",
       "\n",
       "    .dataframe thead th {\n",
       "        text-align: right;\n",
       "    }\n",
       "</style>\n",
       "<table border=\"1\" class=\"dataframe\">\n",
       "  <thead>\n",
       "    <tr style=\"text-align: right;\">\n",
       "      <th></th>\n",
       "      <th>Date</th>\n",
       "      <th>Open</th>\n",
       "      <th>High</th>\n",
       "      <th>Low</th>\n",
       "      <th>Close</th>\n",
       "      <th>Adj Close</th>\n",
       "      <th>Volume</th>\n",
       "    </tr>\n",
       "  </thead>\n",
       "  <tbody>\n",
       "    <tr>\n",
       "      <th>0</th>\n",
       "      <td>17-12-19</td>\n",
       "      <td>41052.35938</td>\n",
       "      <td>41401.64844</td>\n",
       "      <td>41005.17969</td>\n",
       "      <td>41352.17188</td>\n",
       "      <td>41352.17188</td>\n",
       "      <td>19000.0</td>\n",
       "    </tr>\n",
       "    <tr>\n",
       "      <th>1</th>\n",
       "      <td>18-12-19</td>\n",
       "      <td>41442.75000</td>\n",
       "      <td>41614.76953</td>\n",
       "      <td>41358.46875</td>\n",
       "      <td>41558.57031</td>\n",
       "      <td>41558.57031</td>\n",
       "      <td>24300.0</td>\n",
       "    </tr>\n",
       "    <tr>\n",
       "      <th>2</th>\n",
       "      <td>19-12-19</td>\n",
       "      <td>41571.82031</td>\n",
       "      <td>41719.28906</td>\n",
       "      <td>41456.39844</td>\n",
       "      <td>41673.92188</td>\n",
       "      <td>41673.92188</td>\n",
       "      <td>33300.0</td>\n",
       "    </tr>\n",
       "    <tr>\n",
       "      <th>3</th>\n",
       "      <td>20-12-19</td>\n",
       "      <td>41746.19922</td>\n",
       "      <td>41809.96094</td>\n",
       "      <td>41636.10938</td>\n",
       "      <td>41681.53906</td>\n",
       "      <td>41681.53906</td>\n",
       "      <td>33600.0</td>\n",
       "    </tr>\n",
       "    <tr>\n",
       "      <th>4</th>\n",
       "      <td>23-12-19</td>\n",
       "      <td>41548.26172</td>\n",
       "      <td>41701.62109</td>\n",
       "      <td>41474.60938</td>\n",
       "      <td>41642.66016</td>\n",
       "      <td>41642.66016</td>\n",
       "      <td>6200.0</td>\n",
       "    </tr>\n",
       "  </tbody>\n",
       "</table>\n",
       "</div>"
      ],
      "text/plain": [
       "       Date         Open         High          Low        Close    Adj Close  \\\n",
       "0  17-12-19  41052.35938  41401.64844  41005.17969  41352.17188  41352.17188   \n",
       "1  18-12-19  41442.75000  41614.76953  41358.46875  41558.57031  41558.57031   \n",
       "2  19-12-19  41571.82031  41719.28906  41456.39844  41673.92188  41673.92188   \n",
       "3  20-12-19  41746.19922  41809.96094  41636.10938  41681.53906  41681.53906   \n",
       "4  23-12-19  41548.26172  41701.62109  41474.60938  41642.66016  41642.66016   \n",
       "\n",
       "    Volume  \n",
       "0  19000.0  \n",
       "1  24300.0  \n",
       "2  33300.0  \n",
       "3  33600.0  \n",
       "4   6200.0  "
      ]
     },
     "execution_count": 68,
     "metadata": {},
     "output_type": "execute_result"
    }
   ],
   "source": [
    "df1.head(5)"
   ]
  },
  {
   "cell_type": "code",
   "execution_count": 69,
   "metadata": {},
   "outputs": [
    {
     "data": {
      "text/html": [
       "<div>\n",
       "<style scoped>\n",
       "    .dataframe tbody tr th:only-of-type {\n",
       "        vertical-align: middle;\n",
       "    }\n",
       "\n",
       "    .dataframe tbody tr th {\n",
       "        vertical-align: top;\n",
       "    }\n",
       "\n",
       "    .dataframe thead th {\n",
       "        text-align: right;\n",
       "    }\n",
       "</style>\n",
       "<table border=\"1\" class=\"dataframe\">\n",
       "  <thead>\n",
       "    <tr style=\"text-align: right;\">\n",
       "      <th></th>\n",
       "      <th>publish_date</th>\n",
       "      <th>headline_category</th>\n",
       "      <th>headline_text</th>\n",
       "    </tr>\n",
       "  </thead>\n",
       "  <tbody>\n",
       "    <tr>\n",
       "      <th>0</th>\n",
       "      <td>20010102</td>\n",
       "      <td>unknown</td>\n",
       "      <td>Status quo will not be disturbed at Ayodhya; s...</td>\n",
       "    </tr>\n",
       "    <tr>\n",
       "      <th>1</th>\n",
       "      <td>20010102</td>\n",
       "      <td>unknown</td>\n",
       "      <td>Fissures in Hurriyat over Pak visit</td>\n",
       "    </tr>\n",
       "    <tr>\n",
       "      <th>2</th>\n",
       "      <td>20010102</td>\n",
       "      <td>unknown</td>\n",
       "      <td>America's unwanted heading for India?</td>\n",
       "    </tr>\n",
       "    <tr>\n",
       "      <th>3</th>\n",
       "      <td>20010102</td>\n",
       "      <td>unknown</td>\n",
       "      <td>For bigwigs; it is destination Goa</td>\n",
       "    </tr>\n",
       "    <tr>\n",
       "      <th>4</th>\n",
       "      <td>20010102</td>\n",
       "      <td>unknown</td>\n",
       "      <td>Extra buses to clear tourist traffic</td>\n",
       "    </tr>\n",
       "  </tbody>\n",
       "</table>\n",
       "</div>"
      ],
      "text/plain": [
       "   publish_date headline_category  \\\n",
       "0      20010102           unknown   \n",
       "1      20010102           unknown   \n",
       "2      20010102           unknown   \n",
       "3      20010102           unknown   \n",
       "4      20010102           unknown   \n",
       "\n",
       "                                       headline_text  \n",
       "0  Status quo will not be disturbed at Ayodhya; s...  \n",
       "1                Fissures in Hurriyat over Pak visit  \n",
       "2              America's unwanted heading for India?  \n",
       "3                 For bigwigs; it is destination Goa  \n",
       "4               Extra buses to clear tourist traffic  "
      ]
     },
     "execution_count": 69,
     "metadata": {},
     "output_type": "execute_result"
    }
   ],
   "source": [
    "df2.head(5)"
   ]
  },
  {
   "attachments": {},
   "cell_type": "markdown",
   "metadata": {},
   "source": [
    "## Step 3: Data Preprocessing"
   ]
  },
  {
   "attachments": {},
   "cell_type": "markdown",
   "metadata": {},
   "source": [
    "### 1. For df1"
   ]
  },
  {
   "cell_type": "code",
   "execution_count": 70,
   "metadata": {},
   "outputs": [],
   "source": [
    "df1.dropna(axis=0, inplace=True)"
   ]
  },
  {
   "cell_type": "code",
   "execution_count": 71,
   "metadata": {},
   "outputs": [],
   "source": [
    "df1 = df1.drop_duplicates()"
   ]
  },
  {
   "attachments": {},
   "cell_type": "markdown",
   "metadata": {},
   "source": [
    "Null values and duplicate entries are removed from the historical stock prices dataset 'df1'."
   ]
  },
  {
   "cell_type": "code",
   "execution_count": 72,
   "metadata": {},
   "outputs": [],
   "source": [
    "df1['Date'] = pd.to_datetime(df1['Date']).dt.normalize()"
   ]
  },
  {
   "attachments": {},
   "cell_type": "markdown",
   "metadata": {},
   "source": [
    "Converting the datatype of column 'Date' from type object to type 'datatime'"
   ]
  },
  {
   "cell_type": "code",
   "execution_count": 73,
   "metadata": {},
   "outputs": [],
   "source": [
    "df1 = df1.filter(['Date', 'Close', 'Open', 'High', 'Low', 'Volume'])"
   ]
  },
  {
   "attachments": {},
   "cell_type": "markdown",
   "metadata": {},
   "source": [
    "Filtering the important columns"
   ]
  },
  {
   "cell_type": "code",
   "execution_count": 74,
   "metadata": {},
   "outputs": [],
   "source": [
    "df1.set_index('Date', inplace=True)"
   ]
  },
  {
   "attachments": {},
   "cell_type": "markdown",
   "metadata": {},
   "source": [
    "Setting column 'Date' as the index column"
   ]
  },
  {
   "cell_type": "code",
   "execution_count": 75,
   "metadata": {},
   "outputs": [],
   "source": [
    "df1 = df1.sort_index(ascending=True, axis=0)"
   ]
  },
  {
   "attachments": {},
   "cell_type": "markdown",
   "metadata": {},
   "source": [
    "Sorting the data according to Date"
   ]
  },
  {
   "attachments": {},
   "cell_type": "markdown",
   "metadata": {},
   "source": [
    "### 2. For df2"
   ]
  },
  {
   "cell_type": "code",
   "execution_count": 76,
   "metadata": {},
   "outputs": [],
   "source": [
    "df2 = df2.drop_duplicates()"
   ]
  },
  {
   "attachments": {},
   "cell_type": "markdown",
   "metadata": {},
   "source": [
    "Dropping duplicates"
   ]
  },
  {
   "cell_type": "code",
   "execution_count": 77,
   "metadata": {},
   "outputs": [],
   "source": [
    "df2['publish_date'] = df2['publish_date'].astype(str)\n",
    "df2['publish_date'] = df2['publish_date'].apply(lambda x: x[0:4]+'-'+x[4:6]+'-'+x[6:8])\n",
    "df2['publish_date'] = pd.to_datetime(df2['publish_date']).dt.normalize()"
   ]
  },
  {
   "attachments": {},
   "cell_type": "markdown",
   "metadata": {},
   "source": [
    "Converting the datatype of column 'Date' from type string to type 'datetime'"
   ]
  },
  {
   "cell_type": "code",
   "execution_count": 78,
   "metadata": {},
   "outputs": [],
   "source": [
    "df2 = df2.filter(['publish_date', 'headline_text'])"
   ]
  },
  {
   "attachments": {},
   "cell_type": "markdown",
   "metadata": {},
   "source": [
    "Filtering the important columns"
   ]
  },
  {
   "cell_type": "code",
   "execution_count": 79,
   "metadata": {},
   "outputs": [],
   "source": [
    "df2 = df2.groupby(['publish_date'])['headline_text'].apply(lambda x: ','.join(x)).reset_index()"
   ]
  },
  {
   "attachments": {},
   "cell_type": "markdown",
   "metadata": {},
   "source": [
    "Grouping the news headlines according to Date"
   ]
  },
  {
   "cell_type": "code",
   "execution_count": 80,
   "metadata": {},
   "outputs": [],
   "source": [
    "df2.set_index('publish_date', inplace=True)"
   ]
  },
  {
   "attachments": {},
   "cell_type": "markdown",
   "metadata": {},
   "source": [
    "Setting Date as the index column"
   ]
  },
  {
   "cell_type": "code",
   "execution_count": 81,
   "metadata": {},
   "outputs": [],
   "source": [
    "df2 = df2.sort_index(ascending=True, axis=0)"
   ]
  },
  {
   "attachments": {},
   "cell_type": "markdown",
   "metadata": {},
   "source": [
    "Sorting the data according to the Date"
   ]
  },
  {
   "attachments": {},
   "cell_type": "markdown",
   "metadata": {},
   "source": [
    "### 4. Concatenation of the Datasets df1 and df2"
   ]
  },
  {
   "cell_type": "code",
   "execution_count": 82,
   "metadata": {},
   "outputs": [],
   "source": [
    "stock_data = pd.concat([df1, df2], axis=1)\n",
    "\n",
    "stock_data.dropna(axis=0, inplace=True)"
   ]
  },
  {
   "attachments": {},
   "cell_type": "markdown",
   "metadata": {},
   "source": [
    "## Step 4: Sentiment Analysis"
   ]
  },
  {
   "cell_type": "code",
   "execution_count": 83,
   "metadata": {},
   "outputs": [],
   "source": [
    "stock_data['compound'] = ''\n",
    "stock_data['negative'] = ''\n",
    "stock_data['neutral'] = ''\n",
    "stock_data['positive'] = ''"
   ]
  },
  {
   "cell_type": "code",
   "execution_count": 84,
   "metadata": {},
   "outputs": [
    {
     "name": "stdout",
     "output_type": "stream",
     "text": [
      "Start calculating sentiment scores:\n",
      "Compound Done\n",
      "Negative Done\n",
      "Neutral Done\n",
      "Positive Done\n",
      "Stop\n"
     ]
    }
   ],
   "source": [
    "sid = SentimentIntensityAnalyzer()\n",
    "print('Start calculating sentiment scores:')\n",
    "\n",
    "stock_data['compound'] = stock_data['headline_text'].apply(lambda x: sid.polarity_scores(x)['compound'])\n",
    "print('Compound Done')\n",
    "stock_data['negative'] = stock_data['headline_text'].apply(lambda x: sid.polarity_scores(x)['neg'])\n",
    "print('Negative Done')\n",
    "stock_data['neutral'] = stock_data['headline_text'].apply(lambda x: sid.polarity_scores(x)['neu'])\n",
    "print('Neutral Done')\n",
    "stock_data['positive'] = stock_data['headline_text'].apply(lambda x: sid.polarity_scores(x)['pos'])\n",
    "print('Positive Done')\n",
    "print('Stop')"
   ]
  },
  {
   "attachments": {},
   "cell_type": "markdown",
   "metadata": {},
   "source": [
    "Sentiment analysis is performed on the news headlines using the VADER (Valence Aware Dictionary and Sentiment Reasoner) sentiment intensity analyzer. The sentiment scores (compound, negative, neutral, positive) are calculated and added as additional columns to stock_data."
   ]
  },
  {
   "attachments": {},
   "cell_type": "markdown",
   "metadata": {},
   "source": [
    "## Step 5: Data Preparation"
   ]
  },
  {
   "cell_type": "code",
   "execution_count": 85,
   "metadata": {},
   "outputs": [],
   "source": [
    "stock_data.drop(['headline_text'], inplace=True, axis=1)\n",
    "stock_data = stock_data[['Close', 'compound', 'negative', 'neutral', 'positive', 'Open', 'High', 'Low', 'Volume']]"
   ]
  },
  {
   "attachments": {},
   "cell_type": "markdown",
   "metadata": {},
   "source": [
    "Dropping unwanted 'headline_text' and rearranging columns"
   ]
  },
  {
   "cell_type": "code",
   "execution_count": 86,
   "metadata": {},
   "outputs": [],
   "source": [
    "percentage_of_data = 1.0\n",
    "data_to_use = int(percentage_of_data * (len(stock_data)-1))\n",
    "train_end = int(data_to_use * 0.8)\n",
    "total_data = len(stock_data)\n",
    "start = total_data - data_to_use"
   ]
  },
  {
   "attachments": {},
   "cell_type": "markdown",
   "metadata": {},
   "source": [
    "Preparing the data for training and testing"
   ]
  },
  {
   "cell_type": "code",
   "execution_count": 87,
   "metadata": {},
   "outputs": [],
   "source": [
    "close_price = stock_data.iloc[start:total_data, 0] # close\n",
    "compound = stock_data.iloc[start:total_data, 1] # compound\n",
    "negative = stock_data.iloc[start:total_data, 2] # neg\n",
    "neutral = stock_data.iloc[start:total_data, 3] # neu\n",
    "positive = stock_data.iloc[start:total_data, 4] # pos\n",
    "open_price = stock_data.iloc[start:total_data, 5] # open\n",
    "high = stock_data.iloc[start:total_data, 6] # high\n",
    "low = stock_data.iloc[start:total_data, 7] # low\n",
    "volume = stock_data.iloc[start:total_data, 8] # volume"
   ]
  },
  {
   "cell_type": "code",
   "execution_count": 88,
   "metadata": {},
   "outputs": [],
   "source": [
    "# shifting next day close\n",
    "close_price_shifted = close_price.shift(-1) \n",
    "compound_shifted = compound.shift(-1)\n",
    "\n",
    "# concatenating the captured training data into a dataframe\n",
    "data = pd.concat([close_price, close_price_shifted, compound, compound_shifted, volume, open_price, high, low], axis=1)\n",
    "\n",
    "# setting column names of the revised stock data\n",
    "data.columns = ['close_price', 'close_price_shifted', 'compound', 'compound_shifted', 'volume', 'open_price', 'high', 'low']\n",
    "\n",
    "# dropping nulls\n",
    "data = data.dropna()"
   ]
  },
  {
   "cell_type": "code",
   "execution_count": 89,
   "metadata": {},
   "outputs": [],
   "source": [
    "# close price shifted set as the target variable\n",
    "y = data['close_price_shifted']"
   ]
  },
  {
   "cell_type": "code",
   "execution_count": 90,
   "metadata": {},
   "outputs": [],
   "source": [
    "# setting the features dataset for prediction  \n",
    "cols = ['close_price', 'compound', 'compound_shifted', 'volume', 'open_price', 'high', 'low']\n",
    "x = data[cols]"
   ]
  },
  {
   "cell_type": "code",
   "execution_count": 91,
   "metadata": {},
   "outputs": [
    {
     "data": {
      "text/plain": [
       "(array([[ 0.50613139, -0.99989991, -0.99969973, ...,  0.48882267,\n",
       "          0.470931  ,  0.51416868],\n",
       "        [ 0.51728443, -0.99969973, -0.99989991, ...,  0.50168244,\n",
       "          0.48179463,  0.52360164],\n",
       "        [ 0.51802091, -0.99989991, -0.99969973, ...,  0.51905648,\n",
       "          0.49121895,  0.54091208],\n",
       "        ...,\n",
       "        [ 0.96006811, -0.99929937, -0.99979982, ...,  0.97124474,\n",
       "          0.9655309 ,  0.95658995],\n",
       "        [ 0.96100703, -0.99979982, -0.99939946, ...,  0.97151289,\n",
       "          0.96313625,  0.94600787],\n",
       "        [ 1.        , -0.99939946, -0.99969973, ...,  1.        ,\n",
       "          1.        ,  1.        ]]),\n",
       " array([[ 0.50103849],\n",
       "        [ 0.50176709],\n",
       "        [ 0.49804824],\n",
       "        [ 0.48069709],\n",
       "        [ 0.45224058],\n",
       "        [ 0.49158985],\n",
       "        [ 0.48995031],\n",
       "        [ 0.46084703],\n",
       "        [-0.7815238 ],\n",
       "        [-0.29960836],\n",
       "        [-0.09769343],\n",
       "        [ 0.23578354],\n",
       "        [ 0.21629442],\n",
       "        [ 0.7862272 ],\n",
       "        [ 0.51880774],\n",
       "        [ 0.52769741],\n",
       "        [ 0.52005496],\n",
       "        [ 0.52577764],\n",
       "        [ 0.52700319],\n",
       "        [ 0.48716781],\n",
       "        [ 0.46754941],\n",
       "        [ 0.44761266],\n",
       "        [ 0.47353626],\n",
       "        [ 0.49522949],\n",
       "        [ 0.45141409],\n",
       "        [ 0.43340645],\n",
       "        [ 0.45557869],\n",
       "        [ 0.42833315],\n",
       "        [ 0.41012749],\n",
       "        [ 0.49651594],\n",
       "        [ 0.1633958 ],\n",
       "        [-0.24967682],\n",
       "        [-0.05663475],\n",
       "        [ 0.25350123],\n",
       "        [ 0.31773612],\n",
       "        [ 0.78264958],\n",
       "        [ 0.48055623],\n",
       "        [ 0.46122964],\n",
       "        [ 0.44190343],\n",
       "        [ 0.42647354],\n",
       "        [ 0.46747206],\n",
       "        [ 0.45284887],\n",
       "        [ 0.37566806],\n",
       "        [ 0.3678216 ],\n",
       "        [ 0.33030317],\n",
       "        [ 0.31659614],\n",
       "        [ 0.17805635],\n",
       "        [ 0.4810173 ],\n",
       "        [ 0.32871033],\n",
       "        [ 0.20927818],\n",
       "        [-0.8460279 ],\n",
       "        [-0.22251087],\n",
       "        [-0.0396352 ],\n",
       "        [ 0.04819065],\n",
       "        [ 0.24440568],\n",
       "        [ 0.36590183],\n",
       "        [ 0.784047  ],\n",
       "        [-0.22309039],\n",
       "        [-0.48263386],\n",
       "        [-0.56020587],\n",
       "        [-0.72373085],\n",
       "        [-0.77933146],\n",
       "        [-0.62363557],\n",
       "        [-1.        ],\n",
       "        [-0.93373325],\n",
       "        [-0.75565289],\n",
       "        [-0.62068866],\n",
       "        [-0.63323628],\n",
       "        [-0.76478374],\n",
       "        [-0.6664371 ],\n",
       "        [ 0.41643007],\n",
       "        [ 0.1887877 ],\n",
       "        [-0.4515202 ],\n",
       "        [-0.23483468],\n",
       "        [ 0.11976796],\n",
       "        [ 0.18378502],\n",
       "        [ 0.39985946],\n",
       "        [ 0.82679416],\n",
       "        [-0.54959521],\n",
       "        [-0.57926736],\n",
       "        [-0.55795618],\n",
       "        [-0.46363253],\n",
       "        [-0.45796233],\n",
       "        [-0.55469429],\n",
       "        [-0.48364008],\n",
       "        [-0.43738947],\n",
       "        [-0.48864556],\n",
       "        [-0.44886772],\n",
       "        [-0.41333875],\n",
       "        [-0.35540793],\n",
       "        [-0.25999866],\n",
       "        [ 0.45022217],\n",
       "        [ 0.19463481],\n",
       "        [-0.47656574],\n",
       "        [-0.20551356],\n",
       "        [ 0.11741664],\n",
       "        [ 0.24275643],\n",
       "        [ 0.46911347],\n",
       "        [-0.42346928],\n",
       "        [-0.50819017],\n",
       "        [-0.51059679],\n",
       "        [-0.61282501],\n",
       "        [-0.59683298],\n",
       "        [-0.53729532],\n",
       "        [-0.52636314],\n",
       "        [-0.5512624 ],\n",
       "        [-0.55731613],\n",
       "        [-0.46205427],\n",
       "        [-0.40510594],\n",
       "        [-0.38372675],\n",
       "        [ 0.40564529],\n",
       "        [ 0.46584897],\n",
       "        [ 0.10912293],\n",
       "        [-0.45435147],\n",
       "        [ 0.00492524],\n",
       "        [ 0.15205429],\n",
       "        [ 0.30023103],\n",
       "        [ 0.52199938],\n",
       "        [-0.30675537],\n",
       "        [-0.27075018],\n",
       "        [-0.28005684],\n",
       "        [-0.21308801],\n",
       "        [-0.16299693],\n",
       "        [-0.14581878],\n",
       "        [-0.09616486],\n",
       "        [-0.14986868],\n",
       "        [-0.1524397 ],\n",
       "        [-0.12095408],\n",
       "        [-0.14101712],\n",
       "        [-0.14539022],\n",
       "        [ 0.42409083],\n",
       "        [ 0.45014483],\n",
       "        [-0.60916818],\n",
       "        [-0.47753459],\n",
       "        [ 0.02283499],\n",
       "        [ 0.15350066],\n",
       "        [ 0.18952901],\n",
       "        [ 0.32934552],\n",
       "        [ 0.86002543],\n",
       "        [ 0.02466882],\n",
       "        [-0.03852212],\n",
       "        [-0.03672864],\n",
       "        [ 0.00343292],\n",
       "        [ 0.05589438],\n",
       "        [ 0.09404501],\n",
       "        [ 0.14295576],\n",
       "        [ 0.13733059],\n",
       "        [ 0.16305616],\n",
       "        [ 0.16194943],\n",
       "        [ 0.14337685],\n",
       "        [ 0.19677167],\n",
       "        [ 0.15642365],\n",
       "        [ 0.12437458],\n",
       "        [ 0.11201827],\n",
       "        [ 0.4191427 ],\n",
       "        [-0.62573991],\n",
       "        [-0.45846937],\n",
       "        [-0.19754193],\n",
       "        [-0.01021357],\n",
       "        [ 0.18456668],\n",
       "        [ 0.35839724],\n",
       "        [ 0.8773904 ],\n",
       "        [ 0.17931889],\n",
       "        [ 0.13788732],\n",
       "        [ 0.15447736],\n",
       "        [ 0.20015499],\n",
       "        [ 0.20842591],\n",
       "        [ 0.17070086],\n",
       "        [ 0.1912018 ],\n",
       "        [ 0.22605355],\n",
       "        [ 0.23033884],\n",
       "        [ 0.25234294],\n",
       "        [ 0.25612568],\n",
       "        [ 0.28997122],\n",
       "        [ 0.20971721],\n",
       "        [ 0.47984482],\n",
       "        [-0.07660213],\n",
       "        [-0.50467701],\n",
       "        [-0.23713107],\n",
       "        [ 0.02887751],\n",
       "        [ 0.16816906],\n",
       "        [ 0.38965793],\n",
       "        [ 0.58937398],\n",
       "        [ 0.92473709],\n",
       "        [ 0.22199319],\n",
       "        [ 0.24951448],\n",
       "        [ 0.27424055],\n",
       "        [ 0.24334491],\n",
       "        [ 0.23052454],\n",
       "        [ 0.15288565],\n",
       "        [ 0.12418403],\n",
       "        [ 0.11790387],\n",
       "        [ 0.01126892],\n",
       "        [ 0.09114406],\n",
       "        [ 0.14786279],\n",
       "        [ 0.14705834],\n",
       "        [ 0.15611764],\n",
       "        [ 0.4939408 ],\n",
       "        [ 0.43462714],\n",
       "        [-0.20935758],\n",
       "        [ 0.01516451],\n",
       "        [ 0.16703618],\n",
       "        [ 0.22999845],\n",
       "        [ 0.65443836],\n",
       "        [ 0.91099943],\n",
       "        [ 0.40075582],\n",
       "        [ 0.4169427 ],\n",
       "        [ 0.31494614],\n",
       "        [ 0.33929634],\n",
       "        [ 0.3822079 ],\n",
       "        [ 0.39299455],\n",
       "        [ 0.40857987],\n",
       "        [ 0.39434489],\n",
       "        [ 0.40649383],\n",
       "        [ 0.35484168],\n",
       "        [ 0.39086442],\n",
       "        [ 0.33350751],\n",
       "        [ 0.31699706],\n",
       "        [ 0.30400929],\n",
       "        [ 0.45725074],\n",
       "        [-0.07062873],\n",
       "        [-0.46626296],\n",
       "        [-0.27714431],\n",
       "        [ 0.18855156],\n",
       "        [ 0.23135963],\n",
       "        [ 0.68466667],\n",
       "        [ 0.92430778],\n",
       "        [ 0.67025459],\n",
       "        [ 0.71900953],\n",
       "        [ 0.74075507],\n",
       "        [ 0.68526824],\n",
       "        [ 0.71226979],\n",
       "        [ 0.73091224],\n",
       "        [ 0.77356076],\n",
       "        [ 0.70709037],\n",
       "        [ 0.74837735],\n",
       "        [ 0.73785374],\n",
       "        [ 0.49070582],\n",
       "        [-0.34986197],\n",
       "        [-0.48444658],\n",
       "        [-0.25394679],\n",
       "        [ 0.18497582],\n",
       "        [ 0.3977226 ],\n",
       "        [ 0.66204681],\n",
       "        [ 0.93908117],\n",
       "        [ 0.94001005],\n",
       "        [ 0.97858551],\n",
       "        [ 1.        ]]))"
      ]
     },
     "execution_count": 91,
     "metadata": {},
     "output_type": "execute_result"
    }
   ],
   "source": [
    "# scaling the feature dataset\n",
    "scaler_x = preprocessing.MinMaxScaler(feature_range=(-1, 1))\n",
    "x = np.array(x).reshape((len(x), len(cols)))\n",
    "x = scaler_x.fit_transform(x)\n",
    "\n",
    "# scaling the target variable\n",
    "scaler_y = preprocessing.MinMaxScaler(feature_range=(-1, 1))\n",
    "y = np.array(y).reshape((len(y), 1))\n",
    "y = scaler_y.fit_transform(y)\n",
    "\n",
    "x, y"
   ]
  },
  {
   "attachments": {},
   "cell_type": "markdown",
   "metadata": {},
   "source": [
    "## Step 6: Splitting Train and Test Datasets"
   ]
  },
  {
   "cell_type": "code",
   "execution_count": 92,
   "metadata": {},
   "outputs": [],
   "source": [
    "# preparing training and test dataset\n",
    "X_train = x[0:train_end, ]\n",
    "X_test = x[train_end+1:len(x), ]    \n",
    "y_train = y[0:train_end] \n",
    "y_test = y[train_end+1:len(y)]"
   ]
  },
  {
   "cell_type": "code",
   "execution_count": 93,
   "metadata": {},
   "outputs": [
    {
     "name": "stdout",
     "output_type": "stream",
     "text": [
      "Number of rows and columns in Training set X: (199, 7) and y: (199, 1)\n",
      "Number of rows and columns in Test set X: (48, 7) and y: (48, 1)\n"
     ]
    }
   ],
   "source": [
    "# printing the shape of the training and the test datasets\n",
    "print('Number of rows and columns in Training set X:', X_train.shape, 'and y:', y_train.shape)\n",
    "print('Number of rows and columns in Test set X:', X_test.shape, 'and y:', y_test.shape)"
   ]
  },
  {
   "attachments": {},
   "cell_type": "markdown",
   "metadata": {},
   "source": [
    "## Step 7: Model Training and Evaluation"
   ]
  },
  {
   "attachments": {},
   "cell_type": "markdown",
   "metadata": {},
   "source": [
    "### Three regression models, Support Vector Regression (SVR), Gradient Boosting Regression (GBR), and Random Forest Regression, are trained on the training dataset ('X_train', 'y_train')."
   ]
  },
  {
   "cell_type": "code",
   "execution_count": 94,
   "metadata": {},
   "outputs": [],
   "source": [
    "# Support Vector Regression (SVR)\n",
    "svr_model = SVR()\n",
    "svr_model.fit(X_train, y_train)\n",
    "svr_train_predict = svr_model.predict(X_train)\n",
    "svr_test_predict = svr_model.predict(X_test)"
   ]
  },
  {
   "cell_type": "code",
   "execution_count": 95,
   "metadata": {},
   "outputs": [],
   "source": [
    "# Gradient Boosting Regression (GBR)\n",
    "gbr_model = GradientBoostingRegressor()\n",
    "gbr_model.fit(X_train, y_train)\n",
    "gbr_train_predict = gbr_model.predict(X_train)\n",
    "gbr_test_predict = gbr_model.predict(X_test)"
   ]
  },
  {
   "cell_type": "code",
   "execution_count": 96,
   "metadata": {},
   "outputs": [],
   "source": [
    "# Random Forest Regression\n",
    "rf_model = RandomForestRegressor()\n",
    "rf_model.fit(X_train, y_train)\n",
    "rf_train_predict = rf_model.predict(X_train)\n",
    "rf_test_predict = rf_model.predict(X_test)"
   ]
  },
  {
   "attachments": {},
   "cell_type": "markdown",
   "metadata": {},
   "source": [
    "### A Long Short-Term Memory (LSTM) model is constructed using the Keras library and trained on the training dataset."
   ]
  },
  {
   "cell_type": "code",
   "execution_count": 97,
   "metadata": {},
   "outputs": [
    {
     "name": "stdout",
     "output_type": "stream",
     "text": [
      "Model: \"sequential_1\"\n",
      "_________________________________________________________________\n",
      " Layer (type)                Output Shape              Param #   \n",
      "=================================================================\n",
      " lstm_3 (LSTM)               (None, 7, 100)            40800     \n",
      "                                                                 \n",
      " dropout_3 (Dropout)         (None, 7, 100)            0         \n",
      "                                                                 \n",
      " lstm_4 (LSTM)               (None, 7, 100)            80400     \n",
      "                                                                 \n",
      " dropout_4 (Dropout)         (None, 7, 100)            0         \n",
      "                                                                 \n",
      " lstm_5 (LSTM)               (None, 100)               80400     \n",
      "                                                                 \n",
      " dropout_5 (Dropout)         (None, 100)               0         \n",
      "                                                                 \n",
      " dense_1 (Dense)             (None, 1)                 101       \n",
      "                                                                 \n",
      "=================================================================\n",
      "Total params: 201,701\n",
      "Trainable params: 201,701\n",
      "Non-trainable params: 0\n",
      "_________________________________________________________________\n"
     ]
    }
   ],
   "source": [
    "# seed set to achieve consistent and less random predictions\n",
    "np.random.seed(2016)\n",
    "\n",
    "# setting the architecture for the data model\n",
    "model = Sequential()\n",
    "model.add(LSTM(100, return_sequences=True, activation='tanh', input_shape=(len(cols), 1)))\n",
    "model.add(Dropout(0.1))\n",
    "model.add(LSTM(100, return_sequences=True, activation='tanh'))\n",
    "model.add(Dropout(0.1))\n",
    "model.add(LSTM(100, activation='tanh'))\n",
    "model.add(Dropout(0.1))\n",
    "model.add(Dense(1))\n",
    "\n",
    "# printing the model summary\n",
    "model.summary()"
   ]
  },
  {
   "cell_type": "code",
   "execution_count": 98,
   "metadata": {},
   "outputs": [],
   "source": [
    "model.compile(loss='mean_squared_error', optimizer='adam') "
   ]
  },
  {
   "cell_type": "code",
   "execution_count": 99,
   "metadata": {},
   "outputs": [
    {
     "name": "stdout",
     "output_type": "stream",
     "text": [
      "Epoch 1/100\n",
      "13/13 [==============================] - 5s 11ms/step - loss: 0.1725\n",
      "Epoch 2/100\n",
      "13/13 [==============================] - 0s 10ms/step - loss: 0.1489\n",
      "Epoch 3/100\n",
      "13/13 [==============================] - 0s 11ms/step - loss: 0.1219\n",
      "Epoch 4/100\n",
      "13/13 [==============================] - 0s 11ms/step - loss: 0.1017\n",
      "Epoch 5/100\n",
      "13/13 [==============================] - 0s 10ms/step - loss: 0.0989\n",
      "Epoch 6/100\n",
      "13/13 [==============================] - 0s 11ms/step - loss: 0.0971\n",
      "Epoch 7/100\n",
      "13/13 [==============================] - 0s 11ms/step - loss: 0.0970\n",
      "Epoch 8/100\n",
      "13/13 [==============================] - 0s 10ms/step - loss: 0.0955\n",
      "Epoch 9/100\n",
      "13/13 [==============================] - 0s 10ms/step - loss: 0.0953\n",
      "Epoch 10/100\n",
      "13/13 [==============================] - 0s 10ms/step - loss: 0.1034\n",
      "Epoch 11/100\n",
      "13/13 [==============================] - 0s 10ms/step - loss: 0.1024\n",
      "Epoch 12/100\n",
      "13/13 [==============================] - 0s 10ms/step - loss: 0.0990\n",
      "Epoch 13/100\n",
      "13/13 [==============================] - 0s 10ms/step - loss: 0.1052\n",
      "Epoch 14/100\n",
      "13/13 [==============================] - 0s 10ms/step - loss: 0.0976\n",
      "Epoch 15/100\n",
      "13/13 [==============================] - 0s 11ms/step - loss: 0.0931\n",
      "Epoch 16/100\n",
      "13/13 [==============================] - 0s 11ms/step - loss: 0.0957\n",
      "Epoch 17/100\n",
      "13/13 [==============================] - 0s 10ms/step - loss: 0.0903\n",
      "Epoch 18/100\n",
      "13/13 [==============================] - 0s 10ms/step - loss: 0.0935\n",
      "Epoch 19/100\n",
      "13/13 [==============================] - 0s 10ms/step - loss: 0.0888\n",
      "Epoch 20/100\n",
      "13/13 [==============================] - 0s 10ms/step - loss: 0.0865\n",
      "Epoch 21/100\n",
      "13/13 [==============================] - 0s 10ms/step - loss: 0.0842\n",
      "Epoch 22/100\n",
      "13/13 [==============================] - 0s 10ms/step - loss: 0.0878\n",
      "Epoch 23/100\n",
      "13/13 [==============================] - 0s 10ms/step - loss: 0.0853\n",
      "Epoch 24/100\n",
      "13/13 [==============================] - 0s 11ms/step - loss: 0.0835\n",
      "Epoch 25/100\n",
      "13/13 [==============================] - 0s 11ms/step - loss: 0.0863\n",
      "Epoch 26/100\n",
      "13/13 [==============================] - 0s 10ms/step - loss: 0.0853\n",
      "Epoch 27/100\n",
      "13/13 [==============================] - 0s 10ms/step - loss: 0.0820\n",
      "Epoch 28/100\n",
      "13/13 [==============================] - 0s 10ms/step - loss: 0.0836\n",
      "Epoch 29/100\n",
      "13/13 [==============================] - 0s 11ms/step - loss: 0.0834\n",
      "Epoch 30/100\n",
      "13/13 [==============================] - 0s 10ms/step - loss: 0.0826\n",
      "Epoch 31/100\n",
      "13/13 [==============================] - 0s 11ms/step - loss: 0.0844\n",
      "Epoch 32/100\n",
      "13/13 [==============================] - 0s 10ms/step - loss: 0.0823\n",
      "Epoch 33/100\n",
      "13/13 [==============================] - 0s 10ms/step - loss: 0.0847\n",
      "Epoch 34/100\n",
      "13/13 [==============================] - 0s 10ms/step - loss: 0.0813\n",
      "Epoch 35/100\n",
      "13/13 [==============================] - 0s 11ms/step - loss: 0.0826\n",
      "Epoch 36/100\n",
      "13/13 [==============================] - 0s 10ms/step - loss: 0.0811\n",
      "Epoch 37/100\n",
      "13/13 [==============================] - 0s 13ms/step - loss: 0.0836\n",
      "Epoch 38/100\n",
      "13/13 [==============================] - 0s 10ms/step - loss: 0.0828\n",
      "Epoch 39/100\n",
      "13/13 [==============================] - 0s 10ms/step - loss: 0.0934\n",
      "Epoch 40/100\n",
      "13/13 [==============================] - 0s 10ms/step - loss: 0.0759\n",
      "Epoch 41/100\n",
      "13/13 [==============================] - 0s 10ms/step - loss: 0.0879\n",
      "Epoch 42/100\n",
      "13/13 [==============================] - 0s 10ms/step - loss: 0.0938\n",
      "Epoch 43/100\n",
      "13/13 [==============================] - 0s 10ms/step - loss: 0.0860\n",
      "Epoch 44/100\n",
      "13/13 [==============================] - 0s 10ms/step - loss: 0.0897\n",
      "Epoch 45/100\n",
      "13/13 [==============================] - 0s 10ms/step - loss: 0.0866\n",
      "Epoch 46/100\n",
      "13/13 [==============================] - 0s 10ms/step - loss: 0.0854\n",
      "Epoch 47/100\n",
      "13/13 [==============================] - 0s 10ms/step - loss: 0.0823\n",
      "Epoch 48/100\n",
      "13/13 [==============================] - 0s 10ms/step - loss: 0.0799\n",
      "Epoch 49/100\n",
      "13/13 [==============================] - 0s 10ms/step - loss: 0.0860\n",
      "Epoch 50/100\n",
      "13/13 [==============================] - 0s 10ms/step - loss: 0.0869\n",
      "Epoch 51/100\n",
      "13/13 [==============================] - 0s 10ms/step - loss: 0.0856\n",
      "Epoch 52/100\n",
      "13/13 [==============================] - 0s 10ms/step - loss: 0.0837\n",
      "Epoch 53/100\n",
      "13/13 [==============================] - 0s 10ms/step - loss: 0.0796\n",
      "Epoch 54/100\n",
      "13/13 [==============================] - 0s 10ms/step - loss: 0.0811\n",
      "Epoch 55/100\n",
      "13/13 [==============================] - 0s 10ms/step - loss: 0.0829\n",
      "Epoch 56/100\n",
      "13/13 [==============================] - 0s 12ms/step - loss: 0.0818\n",
      "Epoch 57/100\n",
      "13/13 [==============================] - 0s 10ms/step - loss: 0.0790\n",
      "Epoch 58/100\n",
      "13/13 [==============================] - 0s 10ms/step - loss: 0.0815\n",
      "Epoch 59/100\n",
      "13/13 [==============================] - 0s 10ms/step - loss: 0.0805\n",
      "Epoch 60/100\n",
      "13/13 [==============================] - 0s 10ms/step - loss: 0.0787\n",
      "Epoch 61/100\n",
      "13/13 [==============================] - 0s 10ms/step - loss: 0.0789\n",
      "Epoch 62/100\n",
      "13/13 [==============================] - 0s 10ms/step - loss: 0.0795\n",
      "Epoch 63/100\n",
      "13/13 [==============================] - 0s 10ms/step - loss: 0.0862\n",
      "Epoch 64/100\n",
      "13/13 [==============================] - 0s 10ms/step - loss: 0.0799\n",
      "Epoch 65/100\n",
      "13/13 [==============================] - 0s 10ms/step - loss: 0.0816\n",
      "Epoch 66/100\n",
      "13/13 [==============================] - 0s 10ms/step - loss: 0.0790\n",
      "Epoch 67/100\n",
      "13/13 [==============================] - 0s 10ms/step - loss: 0.0818\n",
      "Epoch 68/100\n",
      "13/13 [==============================] - 0s 10ms/step - loss: 0.0832\n",
      "Epoch 69/100\n",
      "13/13 [==============================] - 0s 10ms/step - loss: 0.0822\n",
      "Epoch 70/100\n",
      "13/13 [==============================] - 0s 10ms/step - loss: 0.0833\n",
      "Epoch 71/100\n",
      "13/13 [==============================] - 0s 10ms/step - loss: 0.0800\n",
      "Epoch 72/100\n",
      "13/13 [==============================] - 0s 10ms/step - loss: 0.0822\n",
      "Epoch 73/100\n",
      "13/13 [==============================] - 0s 10ms/step - loss: 0.0765\n",
      "Epoch 74/100\n",
      "13/13 [==============================] - 0s 12ms/step - loss: 0.0794\n",
      "Epoch 75/100\n",
      "13/13 [==============================] - 0s 10ms/step - loss: 0.0787\n",
      "Epoch 76/100\n",
      "13/13 [==============================] - 0s 10ms/step - loss: 0.0789\n",
      "Epoch 77/100\n",
      "13/13 [==============================] - 0s 11ms/step - loss: 0.0831\n",
      "Epoch 78/100\n",
      "13/13 [==============================] - 0s 11ms/step - loss: 0.0870\n",
      "Epoch 79/100\n",
      "13/13 [==============================] - 0s 10ms/step - loss: 0.0821\n",
      "Epoch 80/100\n",
      "13/13 [==============================] - 0s 10ms/step - loss: 0.0801\n",
      "Epoch 81/100\n",
      "13/13 [==============================] - 0s 10ms/step - loss: 0.0810\n",
      "Epoch 82/100\n",
      "13/13 [==============================] - 0s 10ms/step - loss: 0.0806\n",
      "Epoch 83/100\n",
      "13/13 [==============================] - 0s 10ms/step - loss: 0.0779\n",
      "Epoch 84/100\n",
      "13/13 [==============================] - 0s 10ms/step - loss: 0.0812\n",
      "Epoch 85/100\n",
      "13/13 [==============================] - 0s 10ms/step - loss: 0.0792\n",
      "Epoch 86/100\n",
      "13/13 [==============================] - 0s 10ms/step - loss: 0.0817\n",
      "Epoch 87/100\n",
      "13/13 [==============================] - 0s 10ms/step - loss: 0.0887\n",
      "Epoch 88/100\n",
      "13/13 [==============================] - 0s 10ms/step - loss: 0.0798\n",
      "Epoch 89/100\n",
      "13/13 [==============================] - 0s 10ms/step - loss: 0.0796\n",
      "Epoch 90/100\n",
      "13/13 [==============================] - 0s 10ms/step - loss: 0.0795\n",
      "Epoch 91/100\n",
      "13/13 [==============================] - 0s 12ms/step - loss: 0.0789\n",
      "Epoch 92/100\n",
      "13/13 [==============================] - 0s 11ms/step - loss: 0.0786\n",
      "Epoch 93/100\n",
      "13/13 [==============================] - 0s 10ms/step - loss: 0.0772\n",
      "Epoch 94/100\n",
      "13/13 [==============================] - 0s 10ms/step - loss: 0.0777\n",
      "Epoch 95/100\n",
      "13/13 [==============================] - 0s 10ms/step - loss: 0.0788\n",
      "Epoch 96/100\n",
      "13/13 [==============================] - 0s 10ms/step - loss: 0.0797\n",
      "Epoch 97/100\n",
      "13/13 [==============================] - 0s 11ms/step - loss: 0.0904\n",
      "Epoch 98/100\n",
      "13/13 [==============================] - 0s 10ms/step - loss: 0.0821\n",
      "Epoch 99/100\n",
      "13/13 [==============================] - 0s 10ms/step - loss: 0.0801\n",
      "Epoch 100/100\n",
      "13/13 [==============================] - 0s 10ms/step - loss: 0.0772\n"
     ]
    },
    {
     "data": {
      "text/plain": [
       "<keras.callbacks.History at 0x26d2e5bc150>"
      ]
     },
     "execution_count": 99,
     "metadata": {},
     "output_type": "execute_result"
    }
   ],
   "source": [
    "model.fit(X_train, y_train, epochs=100, batch_size=16, verbose=1)"
   ]
  },
  {
   "attachments": {},
   "cell_type": "markdown",
   "metadata": {},
   "source": [
    "The trained models are used to make predictions on both the training and test datasets."
   ]
  },
  {
   "cell_type": "code",
   "execution_count": 100,
   "metadata": {},
   "outputs": [
    {
     "name": "stdout",
     "output_type": "stream",
     "text": [
      "7/7 [==============================] - 1s 4ms/step\n",
      "2/2 [==============================] - 0s 4ms/step\n"
     ]
    }
   ],
   "source": [
    "train_predict = model.predict(X_train)\n",
    "test_predict = model.predict(X_test)"
   ]
  },
  {
   "attachments": {},
   "cell_type": "markdown",
   "metadata": {},
   "source": [
    "The predictions are transformed back to their original scale using inverse scaling."
   ]
  },
  {
   "cell_type": "code",
   "execution_count": 101,
   "metadata": {},
   "outputs": [],
   "source": [
    "# transforming back to original form\n",
    "train_predict = scaler_y.inverse_transform(train_predict)\n",
    "y_train = scaler_y.inverse_transform(y_train)\n",
    "test_predict = scaler_y.inverse_transform(test_predict)\n",
    "y_test = scaler_y.inverse_transform(y_test)"
   ]
  },
  {
   "cell_type": "code",
   "execution_count": 102,
   "metadata": {},
   "outputs": [
    {
     "name": "stdout",
     "output_type": "stream",
     "text": [
      "Evaluation using RMSE:\n",
      "RMSE for training dataset: 2901.3500375795616\n",
      "RMSE for testing dataset: 5954.24667796085\n"
     ]
    }
   ],
   "source": [
    "print('Evaluation using RMSE:')\n",
    "print('RMSE for training dataset:', math.sqrt(metrics.mean_squared_error(y_train[:, 0], train_predict[:, 0])))\n",
    "print('RMSE for testing dataset:', math.sqrt(metrics.mean_squared_error(y_test[:, 0], test_predict[:, 0])))"
   ]
  },
  {
   "attachments": {},
   "cell_type": "markdown",
   "metadata": {},
   "source": [
    "The model's performance is evaluated using RMSE (Root Mean Square Error). For the training dataset, the RMSE is 2901.35, indicating the average prediction error between the predicted and actual stock prices. The RMSE for the testing dataset is 5954.25, suggesting a slightly higher prediction error compared to the training dataset."
   ]
  },
  {
   "cell_type": "code",
   "execution_count": 103,
   "metadata": {},
   "outputs": [],
   "source": [
    "train_predict_plot = np.empty_like(x)\n",
    "train_predict_plot[:, :] = np.nan\n",
    "train_predict_plot[0:len(train_predict), :] = train_predict\n",
    "\n",
    "test_predict_plot = np.empty_like(x)\n",
    "test_predict_plot[:, :] = np.nan\n",
    "test_predict_plot[len(train_predict):len(x)-1, :] = test_predict"
   ]
  },
  {
   "attachments": {},
   "cell_type": "markdown",
   "metadata": {},
   "source": [
    "Shifting the predictions for plotting"
   ]
  },
  {
   "attachments": {},
   "cell_type": "markdown",
   "metadata": {},
   "source": [
    "## Step 8: Results Visualization"
   ]
  },
  {
   "attachments": {},
   "cell_type": "markdown",
   "metadata": {},
   "source": [
    "### Line plots are created to visualize the actual close prices, predicted close prices, and boundaries for the training and testing datasets."
   ]
  },
  {
   "cell_type": "code",
   "execution_count": 104,
   "metadata": {},
   "outputs": [
    {
     "data": {
      "image/png": "[encoded data removed]",
      "text/plain": [
       "<Figure size 640x480 with 1 Axes>"
      ]
     },
     "metadata": {},
     "output_type": "display_data"
    }
   ],
   "source": [
    "# plot the actual price, predicted price, and the boundary for the training dataset\n",
    "plt.plot(scaler_y.inverse_transform(x[:, 0].reshape(-1, 1)), label='Actual Close Price')\n",
    "plt.plot(train_predict_plot[:, 0], label='Training Predicted Close Price')\n",
    "plt.legend()\n",
    "plt.show()"
   ]
  },
  {
   "cell_type": "code",
   "execution_count": 105,
   "metadata": {},
   "outputs": [
    {
     "data": {
      "image/png": "[encoded data removed]",
      "text/plain": [
       "<Figure size 640x480 with 1 Axes>"
      ]
     },
     "metadata": {},
     "output_type": "display_data"
    }
   ],
   "source": [
    "# plot the actual price, predicted price, and the boundary for the testing dataset\n",
    "plt.plot(scaler_y.inverse_transform(x[:, 0].reshape(-1, 1)), label='Actual Close Price')\n",
    "plt.plot(test_predict_plot[:, 0], label='Testing Predicted Close Price')\n",
    "plt.legend()\n",
    "plt.show()"
   ]
  },
  {
   "attachments": {},
   "cell_type": "markdown",
   "metadata": {},
   "source": [
    "### Another set of line plots is created to compare the actual close prices, predicted close prices (LSTM), and boundaries for the training and testing datasets across multiple models (SVR, GBR, Random Forest)."
   ]
  },
  {
   "cell_type": "code",
   "execution_count": 106,
   "metadata": {},
   "outputs": [
    {
     "data": {
      "image/png": "[encoded data removed]",
      "text/plain": [
       "<Figure size 640x480 with 1 Axes>"
      ]
     },
     "metadata": {},
     "output_type": "display_data"
    }
   ],
   "source": [
    "# plot the actual price, predicted price, and the boundary for the training dataset\n",
    "plt.plot(scaler_y.inverse_transform(x[:, 0].reshape(-1, 1)), label='Actual Close Price')\n",
    "plt.plot(train_predict_plot[:, 0], label='LSTM Training Predicted Close Price')\n",
    "plt.plot(scaler_y.inverse_transform(y_train), label='Actual Close Price (Train)')\n",
    "plt.plot(scaler_y.inverse_transform(svr_train_predict.reshape(-1, 1)), label='SVR Training Predicted Close Price')\n",
    "plt.plot(scaler_y.inverse_transform(gbr_train_predict.reshape(-1, 1)), label='GBR Training Predicted Close Price')\n",
    "plt.plot(scaler_y.inverse_transform(rf_train_predict.reshape(-1, 1)), label='Random Forest Training Predicted Close Price')\n",
    "plt.legend()\n",
    "plt.show()"
   ]
  },
  {
   "cell_type": "code",
   "execution_count": 107,
   "metadata": {},
   "outputs": [
    {
     "data": {
      "image/png": "[encoded data removed]",
      "text/plain": [
       "<Figure size 640x480 with 1 Axes>"
      ]
     },
     "metadata": {},
     "output_type": "display_data"
    }
   ],
   "source": [
    "# plot the actual price, predicted price, and the boundary for the testing dataset\n",
    "plt.plot(scaler_y.inverse_transform(x[:, 0].reshape(-1, 1)), label='Actual Close Price')\n",
    "plt.plot(test_predict_plot[:, 0], label='LSTM Testing Predicted Close Price')\n",
    "plt.plot(scaler_y.inverse_transform(y_test), label='Actual Close Price (Test)')\n",
    "plt.plot(scaler_y.inverse_transform(svr_test_predict.reshape(-1, 1)), label='SVR Testing Predicted Close Price')\n",
    "plt.plot(scaler_y.inverse_transform(gbr_test_predict.reshape(-1, 1)), label='GBR Testing Predicted Close Price')\n",
    "plt.plot(scaler_y.inverse_transform(rf_test_predict.reshape(-1, 1)), label='Random Forest Testing Predicted Close Price')\n",
    "plt.legend()\n",
    "plt.show()"
   ]
  },
  {
   "attachments": {},
   "cell_type": "markdown",
   "metadata": {},
   "source": [
    "## Conclusion: This code implements a hybrid model for stock market prediction using numerical and textual analysis. It combines historical stock prices with sentiment scores from news headlines to predict future stock prices. The models (SVR, GBR, Random Forest, LSTM) are evaluated using RMSE, and the predicted prices are compared to actual close prices to assess their accuracy."
   ]
  }
 ],
 "metadata": {
  "kernelspec": {
   "display_name": "Python 3",
   "language": "python",
   "name": "python3"
  },
  "language_info": {
   "codemirror_mode": {
    "name": "ipython",
    "version": 3
   },
   "file_extension": ".py",
   "mimetype": "text/x-python",
   "name": "python",
   "nbconvert_exporter": "python",
   "pygments_lexer": "ipython3",
   "version": "3.11.0"
  },
  "orig_nbformat": 4
 },
 "nbformat": 4,
 "nbformat_minor": 2
}
